{
 "cells": [
  {
   "cell_type": "code",
   "execution_count": 1,
   "id": "3e276388-6bf6-4460-9e1e-619794828923",
   "metadata": {},
   "outputs": [],
   "source": [
    "import sklearn\n",
    "import numpy as np"
   ]
  },
  {
   "cell_type": "markdown",
   "id": "3aef033a-871a-4821-b3a9-fe2f81b48ece",
   "metadata": {},
   "source": [
    "## Data Standardization"
   ]
  },
  {
   "cell_type": "code",
   "execution_count": 2,
   "id": "1e991068-13f4-420e-8ade-c42c4de15095",
   "metadata": {},
   "outputs": [],
   "source": [
    "pizza_data = np.array([[2100,   10,  800],\n",
    "       [2500,   11,  850],\n",
    "       [1800,   10,  760],\n",
    "       [2000,   12,  800],\n",
    "       [2300,   11,  810]]\n",
    ")"
   ]
  },
  {
   "cell_type": "code",
   "execution_count": 3,
   "id": "a2921e35-ce1c-44c5-83e2-db0df3af0cb3",
   "metadata": {},
   "outputs": [],
   "source": [
    "from sklearn.preprocessing import scale"
   ]
  },
  {
   "cell_type": "code",
   "execution_count": 4,
   "id": "94dfa7a9-343c-4962-ae4d-4ac4fc4aeed0",
   "metadata": {},
   "outputs": [
    {
     "name": "stdout",
     "output_type": "stream",
     "text": [
      "[2140.    10.8  804. ]\n",
      "\n"
     ]
    }
   ],
   "source": [
    "Pizza_mean  = pizza_data.mean(axis = 0)\n",
    "print('{}\\n'.format(Pizza_mean))"
   ]
  },
  {
   "cell_type": "code",
   "execution_count": 5,
   "id": "7750d83a-5104-4dee-83a7-f7fc8526f5c6",
   "metadata": {},
   "outputs": [
    {
     "name": "stdout",
     "output_type": "stream",
     "text": [
      "[241.66091947   0.74833148  28.70540019]\n",
      "\n"
     ]
    }
   ],
   "source": [
    "Pizza_sd  = pizza_data.std(axis = 0)\n",
    "print('{}\\n'.format(Pizza_sd))"
   ]
  },
  {
   "cell_type": "code",
   "execution_count": 6,
   "id": "4f7aaa4a-f4db-4468-a249-d004f68954b4",
   "metadata": {},
   "outputs": [
    {
     "name": "stdout",
     "output_type": "stream",
     "text": [
      "[[-0.16552118 -1.06904497 -0.1393466 ]\n",
      " [ 1.4896906   0.26726124  1.60248593]\n",
      " [-1.40693001 -1.06904497 -1.53281263]\n",
      " [-0.57932412  1.60356745 -0.1393466 ]\n",
      " [ 0.66208471  0.26726124  0.2090199 ]]\n",
      "\n"
     ]
    }
   ],
   "source": [
    "col_standardization = scale(pizza_data)\n",
    "print('{}\\n'.format(col_standardization))"
   ]
  },
  {
   "cell_type": "code",
   "execution_count": 7,
   "id": "80adaef4-602b-47a1-83c0-ae3e94c4a217",
   "metadata": {},
   "outputs": [
    {
     "name": "stdout",
     "output_type": "stream",
     "text": [
      "array([ 0., -0.,  0.])\n",
      "\n"
     ]
    }
   ],
   "source": [
    "col_means = col_standardization.mean(axis=0).round(decimals=3)\n",
    "print('{}\\n'.format(repr(col_means)))"
   ]
  },
  {
   "cell_type": "code",
   "execution_count": 8,
   "id": "070e4401-fbc0-4bb7-93cc-c534b236cd55",
   "metadata": {},
   "outputs": [
    {
     "name": "stdout",
     "output_type": "stream",
     "text": [
      "array([1., 1., 1.])\n",
      "\n"
     ]
    }
   ],
   "source": [
    "\n",
    "# Column standard deviations\n",
    "col_stds = col_standardization.std(axis=0)\n",
    "print('{}\\n'.format(repr(col_stds)))"
   ]
  },
  {
   "cell_type": "code",
   "execution_count": 9,
   "id": "949da24c-ce66-47e5-ad45-41605608ee6c",
   "metadata": {},
   "outputs": [],
   "source": [
    "def standardize_data(data):\n",
    "  scaled_data = scale(data)\n",
    "  return scaled_data"
   ]
  },
  {
   "cell_type": "markdown",
   "id": "85d1df5a-72ce-4679-8a4d-78c6df84641c",
   "metadata": {},
   "source": [
    "## Range Compression (Min Max Scalar)"
   ]
  },
  {
   "cell_type": "code",
   "execution_count": 10,
   "id": "9c17f159-9078-4037-b51c-17e141ba5d56",
   "metadata": {},
   "outputs": [
    {
     "name": "stdout",
     "output_type": "stream",
     "text": [
      "array([[ 1.2,  3.2],\n",
      "       [-0.3, -1.2],\n",
      "       [ 6.5, 10.1],\n",
      "       [ 2.2, -8.4]])\n",
      "\n"
     ]
    }
   ],
   "source": [
    "data = np.array([[ 1.2,  3.2],\n",
    "       [-0.3, -1.2],\n",
    "       [ 6.5, 10.1],\n",
    "       [ 2.2, -8.4]])\n",
    "# predefined data\n",
    "print('{}\\n'.format(repr(data)))\n"
   ]
  },
  {
   "cell_type": "code",
   "execution_count": 11,
   "id": "89ca9fe4-f7d6-4be2-bde1-6ca3436f2d83",
   "metadata": {},
   "outputs": [
    {
     "name": "stdout",
     "output_type": "stream",
     "text": [
      "array([[0.22058824, 0.62702703],\n",
      "       [0.        , 0.38918919],\n",
      "       [1.        , 1.        ],\n",
      "       [0.36764706, 0.        ]])\n",
      "\n"
     ]
    }
   ],
   "source": [
    "\n",
    "from sklearn.preprocessing import MinMaxScaler\n",
    "default_scaler = MinMaxScaler() # the default range is [0,1]\n",
    "transformed = default_scaler.fit_transform(data)\n",
    "print('{}\\n'.format(repr(transformed)))\n"
   ]
  },
  {
   "cell_type": "code",
   "execution_count": 12,
   "id": "435ece71-330a-4b19-aed1-631aa1d453c9",
   "metadata": {},
   "outputs": [
    {
     "name": "stdout",
     "output_type": "stream",
     "text": [
      "array([[-0.89705882,  1.13513514],\n",
      "       [-2.        , -0.05405405],\n",
      "       [ 3.        ,  3.        ],\n",
      "       [-0.16176471, -2.        ]])\n",
      "\n"
     ]
    }
   ],
   "source": [
    "\n",
    "custom_scaler = MinMaxScaler(feature_range=(-2, 3))\n",
    "transformed = custom_scaler.fit_transform(data)\n",
    "print('{}\\n'.format(repr(transformed)))"
   ]
  },
  {
   "cell_type": "code",
   "execution_count": 13,
   "id": "2043bd58-8eaf-4ad6-9a34-44f79b5af888",
   "metadata": {},
   "outputs": [],
   "source": [
    "new_data= np.array([[ 1.2, -0.5],\n",
    "       [ 5.3,  2.3],\n",
    "       [-3.3,  4.1]])"
   ]
  },
  {
   "cell_type": "code",
   "execution_count": 14,
   "id": "fe63f435-f175-4ba1-bdfa-54d35a7777a3",
   "metadata": {},
   "outputs": [
    {
     "name": "stdout",
     "output_type": "stream",
     "text": [
      "array([[ 1.2, -0.5],\n",
      "       [ 5.3,  2.3],\n",
      "       [-3.3,  4.1]])\n",
      "\n"
     ]
    }
   ],
   "source": [
    "print('{}\\n'.format(repr(new_data)))"
   ]
  },
  {
   "cell_type": "code",
   "execution_count": 15,
   "id": "3eaff0c0-4740-43b2-9b41-abcaebe5c62f",
   "metadata": {},
   "outputs": [
    {
     "name": "stdout",
     "output_type": "stream",
     "text": [
      "array([[0.52325581, 0.        ],\n",
      "       [1.        , 0.60869565],\n",
      "       [0.        , 1.        ]])\n",
      "\n"
     ]
    }
   ],
   "source": [
    "default_scaler = MinMaxScaler() # the default range is [0,1]\n",
    "transformed = default_scaler.fit_transform(new_data)\n",
    "print('{}\\n'.format(repr(transformed)))"
   ]
  },
  {
   "cell_type": "code",
   "execution_count": 16,
   "id": "b0363810-3f07-4138-8877-8b8d76e1371c",
   "metadata": {},
   "outputs": [
    {
     "name": "stdout",
     "output_type": "stream",
     "text": [
      "array([[ 0.22058824,  0.42702703],\n",
      "       [ 0.82352941,  0.57837838],\n",
      "       [-0.44117647,  0.67567568]])\n",
      "\n"
     ]
    }
   ],
   "source": [
    "default_scaler = MinMaxScaler()  # new instance\n",
    "default_scaler.fit(data)  # different data value fit\n",
    "transformed = default_scaler.transform(new_data)\n",
    "print('{}\\n'.format(repr(transformed)))"
   ]
  },
  {
   "cell_type": "code",
   "execution_count": 17,
   "id": "7b45796e-cdfc-4eba-8d9d-763d9a048765",
   "metadata": {},
   "outputs": [
    {
     "name": "stdout",
     "output_type": "stream",
     "text": [
      "array([[ 1.2,  2.3],\n",
      "       [ 2.1,  4.2],\n",
      "       [-1.9,  3.1],\n",
      "       [-2.5,  2.5],\n",
      "       [ 0.8,  3. ],\n",
      "       [ 6.3,  2.1],\n",
      "       [-1.5,  2.7],\n",
      "       [ 1.4,  2.9],\n",
      "       [ 1.8,  3.2]])\n",
      "\n"
     ]
    }
   ],
   "source": [
    "data = np.array([[ 1.2,  2.3],\n",
    "       [ 2.1,  4.2],\n",
    "       [-1.9,  3.1],\n",
    "       [-2.5,  2.5],\n",
    "       [ 0.8,  3. ],\n",
    "       [ 6.3,  2.1],\n",
    "       [-1.5,  2.7],\n",
    "       [ 1.4,  2.9],\n",
    "       [ 1.8,  3.2]])# predefined data\n",
    "print('{}\\n'.format(repr(data)))\n"
   ]
  },
  {
   "cell_type": "code",
   "execution_count": 18,
   "id": "dfe16c5a-ff17-453d-9469-2e301f7b8030",
   "metadata": {},
   "outputs": [
    {
     "name": "stdout",
     "output_type": "stream",
     "text": [
      "array([[ 0.        , -1.        ],\n",
      "       [ 0.27272727,  2.16666667],\n",
      "       [-0.93939394,  0.33333333],\n",
      "       [-1.12121212, -0.66666667],\n",
      "       [-0.12121212,  0.16666667],\n",
      "       [ 1.54545455, -1.33333333],\n",
      "       [-0.81818182, -0.33333333],\n",
      "       [ 0.06060606,  0.        ],\n",
      "       [ 0.18181818,  0.5       ]])\n",
      "\n"
     ]
    }
   ],
   "source": [
    "from sklearn.preprocessing import RobustScaler\n",
    "robust_scaler = RobustScaler()\n",
    "transformed = robust_scaler.fit_transform(data)\n",
    "print('{}\\n'.format(repr(transformed)))"
   ]
  },
  {
   "cell_type": "markdown",
   "id": "95daa422-0235-4262-962f-c8778ee51816",
   "metadata": {},
   "source": [
    "## Data Imputation"
   ]
  },
  {
   "cell_type": "code",
   "execution_count": 19,
   "id": "45bf7548-cc5c-4696-a845-921928eadee7",
   "metadata": {},
   "outputs": [
    {
     "name": "stdout",
     "output_type": "stream",
     "text": [
      "array([[ 1.,  2., nan,  2.],\n",
      "       [ 5., nan,  1.,  2.],\n",
      "       [ 4., nan,  3., nan],\n",
      "       [ 5.,  6.,  8.,  1.],\n",
      "       [nan,  7., nan,  0.]])\n",
      "\n"
     ]
    }
   ],
   "source": [
    "data = np.array(([[ 1.,  2., np.nan,  2.],\n",
    "       [ 5., np.nan,  1.,  2.],\n",
    "       [ 4., np.nan,  3., np.nan],\n",
    "       [ 5.,  6.,  8.,  1.],\n",
    "       [np.nan,  7., np.nan,  0.]]))\n",
    "print('{}\\n'.format(repr(data)))\n"
   ]
  },
  {
   "cell_type": "code",
   "execution_count": 20,
   "id": "913267b7-caa1-4162-958f-8e323b998145",
   "metadata": {},
   "outputs": [
    {
     "name": "stdout",
     "output_type": "stream",
     "text": [
      "array([[1.  , 2.  , 4.  , 2.  ],\n",
      "       [5.  , 5.  , 1.  , 2.  ],\n",
      "       [4.  , 5.  , 3.  , 1.25],\n",
      "       [5.  , 6.  , 8.  , 1.  ],\n",
      "       [3.75, 7.  , 4.  , 0.  ]])\n",
      "\n"
     ]
    }
   ],
   "source": [
    "# Default is MEAN \n",
    "from sklearn.impute import SimpleImputer\n",
    "imp_mean = SimpleImputer()\n",
    "transformed = imp_mean.fit_transform(data)\n",
    "print('{}\\n'.format(repr(transformed)))"
   ]
  },
  {
   "cell_type": "code",
   "execution_count": 21,
   "id": "9fcc4fbc-4062-420e-a833-e48805afc261",
   "metadata": {},
   "outputs": [
    {
     "name": "stdout",
     "output_type": "stream",
     "text": [
      "array([[1. , 2. , 3. , 2. ],\n",
      "       [5. , 6. , 1. , 2. ],\n",
      "       [4. , 6. , 3. , 1.5],\n",
      "       [5. , 6. , 8. , 1. ],\n",
      "       [4.5, 7. , 3. , 0. ]])\n",
      "\n"
     ]
    }
   ],
   "source": [
    "imp_median = SimpleImputer(strategy='median')\n",
    "transformed = imp_median.fit_transform(data)\n",
    "print('{}\\n'.format(repr(transformed)))"
   ]
  },
  {
   "cell_type": "code",
   "execution_count": 22,
   "id": "cbc46080-c2c8-4dd8-bb11-1e24f074c7ee",
   "metadata": {},
   "outputs": [
    {
     "name": "stdout",
     "output_type": "stream",
     "text": [
      "array([[1., 2., 1., 2.],\n",
      "       [5., 2., 1., 2.],\n",
      "       [4., 2., 3., 2.],\n",
      "       [5., 6., 8., 1.],\n",
      "       [5., 7., 1., 0.]])\n",
      "\n"
     ]
    }
   ],
   "source": [
    "imp_frequent = SimpleImputer(strategy='most_frequent')\n",
    "transformed = imp_frequent.fit_transform(data)\n",
    "print('{}\\n'.format(repr(transformed)))"
   ]
  },
  {
   "cell_type": "code",
   "execution_count": 23,
   "id": "a643aff8-8adc-4b32-8765-ff39979328da",
   "metadata": {},
   "outputs": [
    {
     "name": "stdout",
     "output_type": "stream",
     "text": [
      "array([[ 1.,  2., -1.,  2.],\n",
      "       [ 5., -1.,  1.,  2.],\n",
      "       [ 4., -1.,  3., -1.],\n",
      "       [ 5.,  6.,  8.,  1.],\n",
      "       [-1.,  7., -1.,  0.]])\n",
      "\n"
     ]
    }
   ],
   "source": [
    "#fill with a specified Value\n",
    "imp_constant = SimpleImputer(strategy='constant',\n",
    "                             fill_value=-1)\n",
    "transformed = imp_constant.fit_transform(data)\n",
    "print('{}\\n'.format(repr(transformed)))"
   ]
  },
  {
   "cell_type": "code",
   "execution_count": 24,
   "id": "a9f7accb-79cb-43af-98ab-172812fb8d79",
   "metadata": {},
   "outputs": [
    {
     "name": "stdout",
     "output_type": "stream",
     "text": [
      "array([[ 1.5,  3. ,  9. , -0.5,  1. ],\n",
      "       [ 2.2,  4.3,  3.5,  0.6,  2.7],\n",
      "       [ 3. ,  6.1,  1.1,  1.2,  4.2],\n",
      "       [ 8. , 16. ,  7.7, -1. ,  7.1]])\n",
      "\n"
     ]
    }
   ],
   "source": [
    "data = np.array([[ 1.5,  3. ,  9. , -0.5,  1. ],\n",
    "       [ 2.2,  4.3,  3.5,  0.6,  2.7],\n",
    "       [ 3. ,  6.1,  1.1,  1.2,  4.2],\n",
    "       [ 8. , 16. ,  7.7, -1. ,  7.1]])\n",
    "print('{}\\n'.format(repr(data)))\n"
   ]
  },
  {
   "cell_type": "code",
   "execution_count": 25,
   "id": "34d1fdef-b352-4ed8-8cce-ad661ac04515",
   "metadata": {},
   "outputs": [
    {
     "name": "stdout",
     "output_type": "stream",
     "text": [
      "array([[-4.8600e+00,  4.6300e+00, -4.7000e-02,  0.0000e+00],\n",
      "       [-3.7990e+00, -1.3180e+00,  1.2700e-01,  0.0000e+00],\n",
      "       [-1.8630e+00, -4.2260e+00, -8.9000e-02,  0.0000e+00],\n",
      "       [ 1.0522e+01,  9.1400e-01,  9.0000e-03,  0.0000e+00]])\n",
      "\n"
     ]
    }
   ],
   "source": [
    "\n",
    "from sklearn.decomposition import PCA\n",
    "pca_obj = PCA() # The value of n_component will be 4. As m is 5 and default is always m-1\n",
    "pc = pca_obj.fit_transform(data).round(3)\n",
    "print('{}\\n'.format(repr(pc)))\n"
   ]
  },
  {
   "cell_type": "code",
   "execution_count": 26,
   "id": "3efe7f23-7210-4854-9182-f1b323584d10",
   "metadata": {},
   "outputs": [
    {
     "name": "stdout",
     "output_type": "stream",
     "text": [
      "array([[-4.9,  4.6, -0. ],\n",
      "       [-3.8, -1.3,  0.1],\n",
      "       [-1.9, -4.2, -0.1],\n",
      "       [10.5,  0.9,  0. ]])\n",
      "\n"
     ]
    }
   ],
   "source": [
    "\n",
    "pca_obj = PCA(n_components=3)\n",
    "pc = pca_obj.fit_transform(data).round(1)\n",
    "print('{}\\n'.format(repr(pc)))\n"
   ]
  },
  {
   "cell_type": "code",
   "execution_count": 27,
   "id": "2cce46c9-ee1f-48fa-9746-4ea0cc079d6c",
   "metadata": {},
   "outputs": [
    {
     "name": "stdout",
     "output_type": "stream",
     "text": [
      "array([[-4.86,  4.63],\n",
      "       [-3.8 , -1.32],\n",
      "       [-1.86, -4.23],\n",
      "       [10.52,  0.91]])\n",
      "\n"
     ]
    }
   ],
   "source": [
    "\n",
    "pca_obj = PCA(n_components=2)\n",
    "pc = pca_obj.fit_transform(data).round(2)\n",
    "print('{}\\n'.format(repr(pc)))"
   ]
  },
  {
   "cell_type": "code",
   "execution_count": 29,
   "id": "3be291e4-2760-44ab-be60-a24ae2d6db93",
   "metadata": {},
   "outputs": [
    {
     "name": "stdout",
     "output_type": "stream",
     "text": [
      "array([[1.799e+01, 1.038e+01, 1.228e+02, ..., 2.654e-01, 4.601e-01,\n",
      "        1.189e-01],\n",
      "       [2.057e+01, 1.777e+01, 1.329e+02, ..., 1.860e-01, 2.750e-01,\n",
      "        8.902e-02],\n",
      "       [1.969e+01, 2.125e+01, 1.300e+02, ..., 2.430e-01, 3.613e-01,\n",
      "        8.758e-02],\n",
      "       ...,\n",
      "       [1.660e+01, 2.808e+01, 1.083e+02, ..., 1.418e-01, 2.218e-01,\n",
      "        7.820e-02],\n",
      "       [2.060e+01, 2.933e+01, 1.401e+02, ..., 2.650e-01, 4.087e-01,\n",
      "        1.240e-01],\n",
      "       [7.760e+00, 2.454e+01, 4.792e+01, ..., 0.000e+00, 2.871e-01,\n",
      "        7.039e-02]])\n",
      "\n",
      "Data shape: (569, 30)\n",
      "\n"
     ]
    }
   ],
   "source": [
    "from sklearn.datasets import load_breast_cancer\n",
    "bc = load_breast_cancer()\n",
    "print('{}\\n'.format(repr(bc.data)))\n",
    "print('Data shape: {}\\n'.format(bc.data.shape))\n"
   ]
  },
  {
   "cell_type": "code",
   "execution_count": 30,
   "id": "4c54f290-90b3-4a80-add1-18715b79f4aa",
   "metadata": {},
   "outputs": [
    {
     "name": "stdout",
     "output_type": "stream",
     "text": [
      "array([0, 0, 0, 0, 0, 0, 0, 0, 0, 0, 0, 0, 0, 0, 0, 0, 0, 0, 0, 1, 1, 1,\n",
      "       0, 0, 0, 0, 0, 0, 0, 0, 0, 0, 0, 0, 0, 0, 0, 1, 0, 0, 0, 0, 0, 0,\n",
      "       0, 0, 1, 0, 1, 1, 1, 1, 1, 0, 0, 1, 0, 0, 1, 1, 1, 1, 0, 1, 0, 0,\n",
      "       1, 1, 1, 1, 0, 1, 0, 0, 1, 0, 1, 0, 0, 1, 1, 1, 0, 0, 1, 0, 0, 0,\n",
      "       1, 1, 1, 0, 1, 1, 0, 0, 1, 1, 1, 0, 0, 1, 1, 1, 1, 0, 1, 1, 0, 1,\n",
      "       1, 1, 1, 1, 1, 1, 1, 0, 0, 0, 1, 0, 0, 1, 1, 1, 0, 0, 1, 0, 1, 0,\n",
      "       0, 1, 0, 0, 1, 1, 0, 1, 1, 0, 1, 1, 1, 1, 0, 1, 1, 1, 1, 1, 1, 1,\n",
      "       1, 1, 0, 1, 1, 1, 1, 0, 0, 1, 0, 1, 1, 0, 0, 1, 1, 0, 0, 1, 1, 1,\n",
      "       1, 0, 1, 1, 0, 0, 0, 1, 0, 1, 0, 1, 1, 1, 0, 1, 1, 0, 0, 1, 0, 0,\n",
      "       0, 0, 1, 0, 0, 0, 1, 0, 1, 0, 1, 1, 0, 1, 0, 0, 0, 0, 1, 1, 0, 0,\n",
      "       1, 1, 1, 0, 1, 1, 1, 1, 1, 0, 0, 1, 1, 0, 1, 1, 0, 0, 1, 0, 1, 1,\n",
      "       1, 1, 0, 1, 1, 1, 1, 1, 0, 1, 0, 0, 0, 0, 0, 0, 0, 0, 0, 0, 0, 0,\n",
      "       0, 0, 1, 1, 1, 1, 1, 1, 0, 1, 0, 1, 1, 0, 1, 1, 0, 1, 0, 0, 1, 1,\n",
      "       1, 1, 1, 1, 1, 1, 1, 1, 1, 1, 1, 0, 1, 1, 0, 1, 0, 1, 1, 1, 1, 1,\n",
      "       1, 1, 1, 1, 1, 1, 1, 1, 1, 0, 1, 1, 1, 0, 1, 0, 1, 1, 1, 1, 0, 0,\n",
      "       0, 1, 1, 1, 1, 0, 1, 0, 1, 0, 1, 1, 1, 0, 1, 1, 1, 1, 1, 1, 1, 0,\n",
      "       0, 0, 1, 1, 1, 1, 1, 1, 1, 1, 1, 1, 1, 0, 0, 1, 0, 0, 0, 1, 0, 0,\n",
      "       1, 1, 1, 1, 1, 0, 1, 1, 1, 1, 1, 0, 1, 1, 1, 0, 1, 1, 0, 0, 1, 1,\n",
      "       1, 1, 1, 1, 0, 1, 1, 1, 1, 1, 1, 1, 0, 1, 1, 1, 1, 1, 0, 1, 1, 0,\n",
      "       1, 1, 1, 1, 1, 1, 1, 1, 1, 1, 1, 1, 0, 1, 0, 0, 1, 0, 1, 1, 1, 1,\n",
      "       1, 0, 1, 1, 0, 1, 0, 1, 1, 0, 1, 0, 1, 1, 1, 1, 1, 1, 1, 1, 0, 0,\n",
      "       1, 1, 1, 1, 1, 1, 0, 1, 1, 1, 1, 1, 1, 1, 1, 1, 1, 0, 1, 1, 1, 1,\n",
      "       1, 1, 1, 0, 1, 0, 1, 1, 0, 1, 1, 1, 1, 1, 0, 0, 1, 0, 1, 0, 1, 1,\n",
      "       1, 1, 1, 0, 1, 1, 0, 1, 0, 1, 0, 0, 1, 1, 1, 0, 1, 1, 1, 1, 1, 1,\n",
      "       1, 1, 1, 1, 1, 0, 1, 0, 0, 1, 1, 1, 1, 1, 1, 1, 1, 1, 1, 1, 1, 1,\n",
      "       1, 1, 1, 1, 1, 1, 1, 1, 1, 1, 1, 1, 0, 0, 0, 0, 0, 0, 1])\n",
      "\n",
      "Labels shape: (569,)\n",
      "\n"
     ]
    }
   ],
   "source": [
    "\n",
    "# Class labels\n",
    "print('{}\\n'.format(repr(bc.target)))\n",
    "print('Labels shape: {}\\n'.format(bc.target.shape))\n"
   ]
  },
  {
   "cell_type": "code",
   "execution_count": 31,
   "id": "7e00b227-8650-41bc-a23c-3103384da131",
   "metadata": {},
   "outputs": [
    {
     "name": "stdout",
     "output_type": "stream",
     "text": [
      "['malignant', 'benign']\n",
      "\n"
     ]
    }
   ],
   "source": [
    "\n",
    "# Label names\n",
    "print('{}\\n'.format(list(bc.target_names)))\n"
   ]
  },
  {
   "cell_type": "code",
   "execution_count": 32,
   "id": "2fa4c722-0fff-46f7-b6de-de51e5b88151",
   "metadata": {},
   "outputs": [
    {
     "name": "stdout",
     "output_type": "stream",
     "text": [
      "Malignant shape: (212, 30)\n",
      "\n"
     ]
    }
   ],
   "source": [
    "\n",
    "malignant = bc.data[bc.target == 0]\n",
    "print('Malignant shape: {}\\n'.format(malignant.shape))\n"
   ]
  },
  {
   "cell_type": "code",
   "execution_count": 33,
   "id": "15f2d5f9-bf02-444f-a5ff-10ad6365b777",
   "metadata": {},
   "outputs": [
    {
     "name": "stdout",
     "output_type": "stream",
     "text": [
      "Benign shape: (357, 30)\n",
      "\n"
     ]
    }
   ],
   "source": [
    "\n",
    "benign = bc.data[bc.target == 1]\n",
    "print('Benign shape: {}\\n'.format(benign.shape))"
   ]
  },
  {
   "cell_type": "code",
   "execution_count": 34,
   "id": "1a1ced8b-7507-4006-a7a2-a1172b5654b4",
   "metadata": {},
   "outputs": [],
   "source": [
    "def get_label_info(component_data, labels,\n",
    "                   class_label, label_names):\n",
    "                       label_name = label_names[class_label]\n",
    "                       label_data = component_data[labels == class_label]\n",
    "                       return label_name, label_data"
   ]
  },
  {
   "cell_type": "code",
   "execution_count": 35,
   "id": "95684057-921c-4616-af82-0bf3981b48bf",
   "metadata": {},
   "outputs": [],
   "source": [
    "def separate_data(component_data, labels,\n",
    "                  label_names):\n",
    "    separated_data = []\n",
    "    for class_label in range(len(label_names)):\n",
    "        separated_data.append(get_label_info(component_data,labels,class_label,label_names))\n",
    "    return separated_data\n"
   ]
  },
  {
   "cell_type": "code",
   "execution_count": 36,
   "id": "a219bf65-37bb-4cfe-93c6-cfcf1026aee8",
   "metadata": {},
   "outputs": [],
   "source": [
    "from sklearn.datasets import load_breast_cancer\n",
    "from sklearn.decomposition import PCA\n",
    "bc = load_breast_cancer()\n",
    "pca_obj = PCA(n_components=2)\n",
    "component_data = pca_obj.fit_transform(bc.data)\n",
    "labels = bc.target\n",
    "label_names = bc.target_names\n",
    "# Using the completed separate_data function\n",
    "separated_data = separate_data(component_data,\n",
    "                               labels, label_names)\n"
   ]
  },
  {
   "cell_type": "code",
   "execution_count": 37,
   "id": "b542a2e2-e0ed-4ba0-988e-a30d766b1378",
   "metadata": {},
   "outputs": [
    {
     "data": {
      "image/png": "[encoded data removed]",
      "text/plain": [
       "<Figure size 640x480 with 1 Axes>"
      ]
     },
     "metadata": {},
     "output_type": "display_data"
    }
   ],
   "source": [
    "\n",
    "# Plotting the data\n",
    "import matplotlib.pyplot as plt\n",
    "for label_name, label_data in separated_data:\n",
    "  col1 = label_data[:, 0]  # 1st column (1st pr. comp.)\n",
    "  col2 = label_data[:, 1]  # 2nd column (2nd pr. comp.)\n",
    "  plt.scatter(col1, col2, label=label_name) # scatterplot\n",
    "plt.legend()  # adds legend to plot\n",
    "plt.title('Breast Cancer Dataset PCA Plot')\n",
    "plt.show()"
   ]
  },
  {
   "cell_type": "code",
   "execution_count": null,
   "id": "b96c3e07-c112-4c41-b86a-968a52c3f549",
   "metadata": {},
   "outputs": [],
   "source": []
  }
 ],
 "metadata": {
  "kernelspec": {
   "display_name": "Python 3 (ipykernel)",
   "language": "python",
   "name": "python3"
  },
  "language_info": {
   "codemirror_mode": {
    "name": "ipython",
    "version": 3
   },
   "file_extension": ".py",
   "mimetype": "text/x-python",
   "name": "python",
   "nbconvert_exporter": "python",
   "pygments_lexer": "ipython3",
   "version": "3.9.7"
  }
 },
 "nbformat": 4,
 "nbformat_minor": 5
}
