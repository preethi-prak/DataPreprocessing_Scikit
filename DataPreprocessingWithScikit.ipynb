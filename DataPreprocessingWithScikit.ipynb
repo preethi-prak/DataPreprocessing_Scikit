{
 "cells": [
  {
   "cell_type": "code",
   "execution_count": 4,
   "id": "3e276388-6bf6-4460-9e1e-619794828923",
   "metadata": {},
   "outputs": [],
   "source": [
    "import sklearn\n",
    "import numpy as np"
   ]
  },
  {
   "cell_type": "markdown",
   "id": "3aef033a-871a-4821-b3a9-fe2f81b48ece",
   "metadata": {},
   "source": [
    "## Data Standardization"
   ]
  },
  {
   "cell_type": "code",
   "execution_count": 5,
   "id": "1e991068-13f4-420e-8ade-c42c4de15095",
   "metadata": {},
   "outputs": [],
   "source": [
    "pizza_data = np.array([[2100,   10,  800],\n",
    "       [2500,   11,  850],\n",
    "       [1800,   10,  760],\n",
    "       [2000,   12,  800],\n",
    "       [2300,   11,  810]]\n",
    ")"
   ]
  },
  {
   "cell_type": "code",
   "execution_count": 6,
   "id": "a2921e35-ce1c-44c5-83e2-db0df3af0cb3",
   "metadata": {},
   "outputs": [],
   "source": [
    "from sklearn.preprocessing import scale"
   ]
  },
  {
   "cell_type": "code",
   "execution_count": 7,
   "id": "94dfa7a9-343c-4962-ae4d-4ac4fc4aeed0",
   "metadata": {},
   "outputs": [
    {
     "name": "stdout",
     "output_type": "stream",
     "text": [
      "[2140.    10.8  804. ]\n",
      "\n"
     ]
    }
   ],
   "source": [
    "Pizza_mean  = pizza_data.mean(axis = 0)\n",
    "print('{}\\n'.format(Pizza_mean))"
   ]
  },
  {
   "cell_type": "code",
   "execution_count": 8,
   "id": "7750d83a-5104-4dee-83a7-f7fc8526f5c6",
   "metadata": {},
   "outputs": [
    {
     "name": "stdout",
     "output_type": "stream",
     "text": [
      "[241.66091947   0.74833148  28.70540019]\n",
      "\n"
     ]
    }
   ],
   "source": [
    "Pizza_sd  = pizza_data.std(axis = 0)\n",
    "print('{}\\n'.format(Pizza_sd))"
   ]
  },
  {
   "cell_type": "code",
   "execution_count": 9,
   "id": "4f7aaa4a-f4db-4468-a249-d004f68954b4",
   "metadata": {},
   "outputs": [
    {
     "name": "stdout",
     "output_type": "stream",
     "text": [
      "[[-0.16552118 -1.06904497 -0.1393466 ]\n",
      " [ 1.4896906   0.26726124  1.60248593]\n",
      " [-1.40693001 -1.06904497 -1.53281263]\n",
      " [-0.57932412  1.60356745 -0.1393466 ]\n",
      " [ 0.66208471  0.26726124  0.2090199 ]]\n",
      "\n"
     ]
    }
   ],
   "source": [
    "col_standardization = scale(pizza_data)\n",
    "print('{}\\n'.format(col_standardization))"
   ]
  },
  {
   "cell_type": "code",
   "execution_count": 10,
   "id": "80adaef4-602b-47a1-83c0-ae3e94c4a217",
   "metadata": {},
   "outputs": [
    {
     "name": "stdout",
     "output_type": "stream",
     "text": [
      "array([ 0., -0.,  0.])\n",
      "\n"
     ]
    }
   ],
   "source": [
    "col_means = col_standardization.mean(axis=0).round(decimals=3)\n",
    "print('{}\\n'.format(repr(col_means)))"
   ]
  },
  {
   "cell_type": "code",
   "execution_count": 11,
   "id": "070e4401-fbc0-4bb7-93cc-c534b236cd55",
   "metadata": {},
   "outputs": [
    {
     "name": "stdout",
     "output_type": "stream",
     "text": [
      "array([1., 1., 1.])\n",
      "\n"
     ]
    }
   ],
   "source": [
    "\n",
    "# Column standard deviations\n",
    "col_stds = col_standardization.std(axis=0)\n",
    "print('{}\\n'.format(repr(col_stds)))"
   ]
  },
  {
   "cell_type": "code",
   "execution_count": 12,
   "id": "949da24c-ce66-47e5-ad45-41605608ee6c",
   "metadata": {},
   "outputs": [],
   "source": [
    "def standardize_data(data):\n",
    "  scaled_data = scale(data)\n",
    "  return scaled_data"
   ]
  },
  {
   "cell_type": "markdown",
   "id": "85d1df5a-72ce-4679-8a4d-78c6df84641c",
   "metadata": {},
   "source": [
    "## Range Compression (Min Max Scalar)"
   ]
  },
  {
   "cell_type": "code",
   "execution_count": 13,
   "id": "9c17f159-9078-4037-b51c-17e141ba5d56",
   "metadata": {},
   "outputs": [
    {
     "name": "stdout",
     "output_type": "stream",
     "text": [
      "array([[ 1.2,  3.2],\n",
      "       [-0.3, -1.2],\n",
      "       [ 6.5, 10.1],\n",
      "       [ 2.2, -8.4]])\n",
      "\n"
     ]
    }
   ],
   "source": [
    "data = np.array([[ 1.2,  3.2],\n",
    "       [-0.3, -1.2],\n",
    "       [ 6.5, 10.1],\n",
    "       [ 2.2, -8.4]])\n",
    "# predefined data\n",
    "print('{}\\n'.format(repr(data)))\n"
   ]
  },
  {
   "cell_type": "code",
   "execution_count": 14,
   "id": "89ca9fe4-f7d6-4be2-bde1-6ca3436f2d83",
   "metadata": {},
   "outputs": [
    {
     "name": "stdout",
     "output_type": "stream",
     "text": [
      "array([[0.22058824, 0.62702703],\n",
      "       [0.        , 0.38918919],\n",
      "       [1.        , 1.        ],\n",
      "       [0.36764706, 0.        ]])\n",
      "\n"
     ]
    }
   ],
   "source": [
    "\n",
    "from sklearn.preprocessing import MinMaxScaler\n",
    "default_scaler = MinMaxScaler() # the default range is [0,1]\n",
    "transformed = default_scaler.fit_transform(data)\n",
    "print('{}\\n'.format(repr(transformed)))\n"
   ]
  },
  {
   "cell_type": "code",
   "execution_count": 15,
   "id": "435ece71-330a-4b19-aed1-631aa1d453c9",
   "metadata": {},
   "outputs": [
    {
     "name": "stdout",
     "output_type": "stream",
     "text": [
      "array([[-0.89705882,  1.13513514],\n",
      "       [-2.        , -0.05405405],\n",
      "       [ 3.        ,  3.        ],\n",
      "       [-0.16176471, -2.        ]])\n",
      "\n"
     ]
    }
   ],
   "source": [
    "\n",
    "custom_scaler = MinMaxScaler(feature_range=(-2, 3))\n",
    "transformed = custom_scaler.fit_transform(data)\n",
    "print('{}\\n'.format(repr(transformed)))"
   ]
  },
  {
   "cell_type": "code",
   "execution_count": 16,
   "id": "2043bd58-8eaf-4ad6-9a34-44f79b5af888",
   "metadata": {},
   "outputs": [],
   "source": [
    "new_data= np.array([[ 1.2, -0.5],\n",
    "       [ 5.3,  2.3],\n",
    "       [-3.3,  4.1]])"
   ]
  },
  {
   "cell_type": "code",
   "execution_count": 17,
   "id": "fe63f435-f175-4ba1-bdfa-54d35a7777a3",
   "metadata": {},
   "outputs": [
    {
     "name": "stdout",
     "output_type": "stream",
     "text": [
      "array([[ 1.2, -0.5],\n",
      "       [ 5.3,  2.3],\n",
      "       [-3.3,  4.1]])\n",
      "\n"
     ]
    }
   ],
   "source": [
    "print('{}\\n'.format(repr(new_data)))"
   ]
  },
  {
   "cell_type": "code",
   "execution_count": 18,
   "id": "3eaff0c0-4740-43b2-9b41-abcaebe5c62f",
   "metadata": {},
   "outputs": [
    {
     "name": "stdout",
     "output_type": "stream",
     "text": [
      "array([[0.52325581, 0.        ],\n",
      "       [1.        , 0.60869565],\n",
      "       [0.        , 1.        ]])\n",
      "\n"
     ]
    }
   ],
   "source": [
    "default_scaler = MinMaxScaler() # the default range is [0,1]\n",
    "transformed = default_scaler.fit_transform(new_data)\n",
    "print('{}\\n'.format(repr(transformed)))"
   ]
  },
  {
   "cell_type": "code",
   "execution_count": 19,
   "id": "b0363810-3f07-4138-8877-8b8d76e1371c",
   "metadata": {},
   "outputs": [
    {
     "name": "stdout",
     "output_type": "stream",
     "text": [
      "array([[ 0.22058824,  0.42702703],\n",
      "       [ 0.82352941,  0.57837838],\n",
      "       [-0.44117647,  0.67567568]])\n",
      "\n"
     ]
    }
   ],
   "source": [
    "default_scaler = MinMaxScaler()  # new instance\n",
    "default_scaler.fit(data)  # different data value fit\n",
    "transformed = default_scaler.transform(new_data)\n",
    "print('{}\\n'.format(repr(transformed)))"
   ]
  },
  {
   "cell_type": "code",
   "execution_count": 20,
   "id": "7b45796e-cdfc-4eba-8d9d-763d9a048765",
   "metadata": {},
   "outputs": [
    {
     "name": "stdout",
     "output_type": "stream",
     "text": [
      "array([[ 1.2,  2.3],\n",
      "       [ 2.1,  4.2],\n",
      "       [-1.9,  3.1],\n",
      "       [-2.5,  2.5],\n",
      "       [ 0.8,  3. ],\n",
      "       [ 6.3,  2.1],\n",
      "       [-1.5,  2.7],\n",
      "       [ 1.4,  2.9],\n",
      "       [ 1.8,  3.2]])\n",
      "\n"
     ]
    }
   ],
   "source": [
    "data = np.array([[ 1.2,  2.3],\n",
    "       [ 2.1,  4.2],\n",
    "       [-1.9,  3.1],\n",
    "       [-2.5,  2.5],\n",
    "       [ 0.8,  3. ],\n",
    "       [ 6.3,  2.1],\n",
    "       [-1.5,  2.7],\n",
    "       [ 1.4,  2.9],\n",
    "       [ 1.8,  3.2]])# predefined data\n",
    "print('{}\\n'.format(repr(data)))\n"
   ]
  },
  {
   "cell_type": "code",
   "execution_count": 21,
   "id": "dfe16c5a-ff17-453d-9469-2e301f7b8030",
   "metadata": {},
   "outputs": [
    {
     "name": "stdout",
     "output_type": "stream",
     "text": [
      "array([[ 0.        , -1.        ],\n",
      "       [ 0.27272727,  2.16666667],\n",
      "       [-0.93939394,  0.33333333],\n",
      "       [-1.12121212, -0.66666667],\n",
      "       [-0.12121212,  0.16666667],\n",
      "       [ 1.54545455, -1.33333333],\n",
      "       [-0.81818182, -0.33333333],\n",
      "       [ 0.06060606,  0.        ],\n",
      "       [ 0.18181818,  0.5       ]])\n",
      "\n"
     ]
    }
   ],
   "source": [
    "from sklearn.preprocessing import RobustScaler\n",
    "robust_scaler = RobustScaler()\n",
    "transformed = robust_scaler.fit_transform(data)\n",
    "print('{}\\n'.format(repr(transformed)))"
   ]
  },
  {
   "cell_type": "markdown",
   "id": "95daa422-0235-4262-962f-c8778ee51816",
   "metadata": {},
   "source": [
    "## Data Imputation"
   ]
  },
  {
   "cell_type": "code",
   "execution_count": 28,
   "id": "45bf7548-cc5c-4696-a845-921928eadee7",
   "metadata": {},
   "outputs": [
    {
     "name": "stdout",
     "output_type": "stream",
     "text": [
      "array([[ 1.,  2., nan,  2.],\n",
      "       [ 5., nan,  1.,  2.],\n",
      "       [ 4., nan,  3., nan],\n",
      "       [ 5.,  6.,  8.,  1.],\n",
      "       [nan,  7., nan,  0.]])\n",
      "\n"
     ]
    }
   ],
   "source": [
    "data = np.array(([[ 1.,  2., np.nan,  2.],\n",
    "       [ 5., np.nan,  1.,  2.],\n",
    "       [ 4., np.nan,  3., np.nan],\n",
    "       [ 5.,  6.,  8.,  1.],\n",
    "       [np.nan,  7., np.nan,  0.]]))\n",
    "print('{}\\n'.format(repr(data)))\n"
   ]
  },
  {
   "cell_type": "code",
   "execution_count": 32,
   "id": "913267b7-caa1-4162-958f-8e323b998145",
   "metadata": {},
   "outputs": [
    {
     "name": "stdout",
     "output_type": "stream",
     "text": [
      "array([[1.  , 2.  , 4.  , 2.  ],\n",
      "       [5.  , 5.  , 1.  , 2.  ],\n",
      "       [4.  , 5.  , 3.  , 1.25],\n",
      "       [5.  , 6.  , 8.  , 1.  ],\n",
      "       [3.75, 7.  , 4.  , 0.  ]])\n",
      "\n"
     ]
    }
   ],
   "source": [
    "# Default is MEAN \n",
    "from sklearn.impute import SimpleImputer\n",
    "imp_mean = SimpleImputer()\n",
    "transformed = imp_mean.fit_transform(data)\n",
    "print('{}\\n'.format(repr(transformed)))"
   ]
  },
  {
   "cell_type": "code",
   "execution_count": 33,
   "id": "9fcc4fbc-4062-420e-a833-e48805afc261",
   "metadata": {},
   "outputs": [
    {
     "name": "stdout",
     "output_type": "stream",
     "text": [
      "array([[1. , 2. , 3. , 2. ],\n",
      "       [5. , 6. , 1. , 2. ],\n",
      "       [4. , 6. , 3. , 1.5],\n",
      "       [5. , 6. , 8. , 1. ],\n",
      "       [4.5, 7. , 3. , 0. ]])\n",
      "\n"
     ]
    }
   ],
   "source": [
    "imp_median = SimpleImputer(strategy='median')\n",
    "transformed = imp_median.fit_transform(data)\n",
    "print('{}\\n'.format(repr(transformed)))"
   ]
  },
  {
   "cell_type": "code",
   "execution_count": 34,
   "id": "cbc46080-c2c8-4dd8-bb11-1e24f074c7ee",
   "metadata": {},
   "outputs": [
    {
     "name": "stdout",
     "output_type": "stream",
     "text": [
      "array([[1., 2., 1., 2.],\n",
      "       [5., 2., 1., 2.],\n",
      "       [4., 2., 3., 2.],\n",
      "       [5., 6., 8., 1.],\n",
      "       [5., 7., 1., 0.]])\n",
      "\n"
     ]
    }
   ],
   "source": [
    "imp_frequent = SimpleImputer(strategy='most_frequent')\n",
    "transformed = imp_frequent.fit_transform(data)\n",
    "print('{}\\n'.format(repr(transformed)))"
   ]
  },
  {
   "cell_type": "code",
   "execution_count": 36,
   "id": "a643aff8-8adc-4b32-8765-ff39979328da",
   "metadata": {},
   "outputs": [
    {
     "name": "stdout",
     "output_type": "stream",
     "text": [
      "array([[ 1.,  2., -1.,  2.],\n",
      "       [ 5., -1.,  1.,  2.],\n",
      "       [ 4., -1.,  3., -1.],\n",
      "       [ 5.,  6.,  8.,  1.],\n",
      "       [-1.,  7., -1.,  0.]])\n",
      "\n"
     ]
    }
   ],
   "source": [
    "#fill with a specified Value\n",
    "imp_constant = SimpleImputer(strategy='constant',\n",
    "                             fill_value=-1)\n",
    "transformed = imp_constant.fit_transform(data)\n",
    "print('{}\\n'.format(repr(transformed)))"
   ]
  },
  {
   "cell_type": "code",
   "execution_count": null,
   "id": "a9f7accb-79cb-43af-98ab-172812fb8d79",
   "metadata": {},
   "outputs": [],
   "source": []
  }
 ],
 "metadata": {
  "kernelspec": {
   "display_name": "Python 3 (ipykernel)",
   "language": "python",
   "name": "python3"
  },
  "language_info": {
   "codemirror_mode": {
    "name": "ipython",
    "version": 3
   },
   "file_extension": ".py",
   "mimetype": "text/x-python",
   "name": "python",
   "nbconvert_exporter": "python",
   "pygments_lexer": "ipython3",
   "version": "3.9.7"
  }
 },
 "nbformat": 4,
 "nbformat_minor": 5
}
