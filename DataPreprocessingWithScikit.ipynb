{
 "cells": [
  {
   "cell_type": "code",
   "execution_count": null,
   "id": "3e276388-6bf6-4460-9e1e-619794828923",
   "metadata": {},
   "outputs": [],
   "source": [
    "import sklearn\n",
    "import numpy as np"
   ]
  },
  {
   "cell_type": "markdown",
   "id": "3aef033a-871a-4821-b3a9-fe2f81b48ece",
   "metadata": {},
   "source": [
    "## Data Standardization"
   ]
  },
  {
   "cell_type": "code",
   "execution_count": 5,
   "id": "1e991068-13f4-420e-8ade-c42c4de15095",
   "metadata": {},
   "outputs": [],
   "source": [
    "pizza_data = np.array([[2100,   10,  800],\n",
    "       [2500,   11,  850],\n",
    "       [1800,   10,  760],\n",
    "       [2000,   12,  800],\n",
    "       [2300,   11,  810]]\n",
    ")"
   ]
  },
  {
   "cell_type": "code",
   "execution_count": 6,
   "id": "a2921e35-ce1c-44c5-83e2-db0df3af0cb3",
   "metadata": {},
   "outputs": [],
   "source": [
    "from sklearn.preprocessing import scale"
   ]
  },
  {
   "cell_type": "code",
   "execution_count": 17,
   "id": "94dfa7a9-343c-4962-ae4d-4ac4fc4aeed0",
   "metadata": {},
   "outputs": [
    {
     "name": "stdout",
     "output_type": "stream",
     "text": [
      "[2140.    10.8  804. ]\n",
      "\n"
     ]
    }
   ],
   "source": [
    "Pizza_mean  = pizza_data.mean(axis = 0)\n",
    "print('{}\\n'.format(Pizza_mean))"
   ]
  },
  {
   "cell_type": "code",
   "execution_count": 20,
   "id": "7750d83a-5104-4dee-83a7-f7fc8526f5c6",
   "metadata": {},
   "outputs": [
    {
     "name": "stdout",
     "output_type": "stream",
     "text": [
      "[241.66091947   0.74833148  28.70540019]\n",
      "\n"
     ]
    }
   ],
   "source": [
    "Pizza_sd  = pizza_data.std(axis = 0)\n",
    "print('{}\\n'.format(Pizza_sd))"
   ]
  },
  {
   "cell_type": "code",
   "execution_count": 8,
   "id": "4f7aaa4a-f4db-4468-a249-d004f68954b4",
   "metadata": {},
   "outputs": [
    {
     "name": "stdout",
     "output_type": "stream",
     "text": [
      "[[-0.16552118 -1.06904497 -0.1393466 ]\n",
      " [ 1.4896906   0.26726124  1.60248593]\n",
      " [-1.40693001 -1.06904497 -1.53281263]\n",
      " [-0.57932412  1.60356745 -0.1393466 ]\n",
      " [ 0.66208471  0.26726124  0.2090199 ]]\n",
      "\n"
     ]
    }
   ],
   "source": [
    "col_standardization = scale(pizza_data)\n",
    "print('{}\\n'.format(col_standardization))"
   ]
  },
  {
   "cell_type": "code",
   "execution_count": 10,
   "id": "80adaef4-602b-47a1-83c0-ae3e94c4a217",
   "metadata": {},
   "outputs": [
    {
     "name": "stdout",
     "output_type": "stream",
     "text": [
      "array([ 0., -0.,  0.])\n",
      "\n"
     ]
    }
   ],
   "source": [
    "col_means = col_standardization.mean(axis=0).round(decimals=3)\n",
    "print('{}\\n'.format(repr(col_means)))"
   ]
  },
  {
   "cell_type": "code",
   "execution_count": 12,
   "id": "070e4401-fbc0-4bb7-93cc-c534b236cd55",
   "metadata": {},
   "outputs": [
    {
     "name": "stdout",
     "output_type": "stream",
     "text": [
      "array([1., 1., 1.])\n",
      "\n"
     ]
    }
   ],
   "source": [
    "\n",
    "# Column standard deviations\n",
    "col_stds = col_standardization.std(axis=0)\n",
    "print('{}\\n'.format(repr(col_stds)))"
   ]
  },
  {
   "cell_type": "code",
   "execution_count": 13,
   "id": "949da24c-ce66-47e5-ad45-41605608ee6c",
   "metadata": {},
   "outputs": [],
   "source": [
    "def standardize_data(data):\n",
    "  scaled_data = scale(data)\n",
    "  return scaled_data"
   ]
  },
  {
   "cell_type": "code",
   "execution_count": null,
   "id": "14d77295-3ec8-4bcd-9a74-23044fde6075",
   "metadata": {},
   "outputs": [],
   "source": []
  }
 ],
 "metadata": {
  "kernelspec": {
   "display_name": "Python 3 (ipykernel)",
   "language": "python",
   "name": "python3"
  },
  "language_info": {
   "codemirror_mode": {
    "name": "ipython",
    "version": 3
   },
   "file_extension": ".py",
   "mimetype": "text/x-python",
   "name": "python",
   "nbconvert_exporter": "python",
   "pygments_lexer": "ipython3",
   "version": "3.11.7"
  }
 },
 "nbformat": 4,
 "nbformat_minor": 5
}
